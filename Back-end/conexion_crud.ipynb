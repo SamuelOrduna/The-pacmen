{
 "cells": [
  {
   "cell_type": "markdown",
   "id": "9e51df80-fb95-4651-859c-5f5d4c2939d8",
   "metadata": {},
   "source": [
    "# Conexión a la base de datos\n",
    "\n",
    "Base de datos de prod:\n",
    "    host='82.197.82.20',\n",
    "    user='u734300746_hackaton',\n",
    "    password='7uT?9b|AN6x',\n",
    "    database='u734300746_health_centro',\n",
    "    port=3306\n",
    "\n",
    "Base de datos QA:\n",
    "    host='localhost',\n",
    "    user='root',\n",
    "    password='',\n",
    "    database='meta_hackaton',\n",
    "    port=3306"
   ]
  },
  {
   "cell_type": "code",
   "execution_count": 13,
   "id": "912f9cc0-4dba-40e4-b42e-691508dd1b1f",
   "metadata": {},
   "outputs": [],
   "source": [
    "import pymysql\n",
    "\n",
    "def connect_to_mysql():\n",
    "    try:\n",
    "        connection = pymysql.connect(\n",
    "            host='localhost',\n",
    "            user='root',\n",
    "            password='',\n",
    "            database='meta_hackaton',\n",
    "            port=3306\n",
    "        )\n",
    "        print(\"Conexión exitosa a MySQL/MariaDB\")\n",
    "        return connection\n",
    "    except Exception as e:\n",
    "        print(f\"Error al conectar a MySQL: {e}\")\n",
    "        return None"
   ]
  },
  {
   "cell_type": "markdown",
   "id": "884b3463-e1ee-4fb4-bf1a-54c08c47d576",
   "metadata": {},
   "source": [
    "# Insert\n",
    "\n",
    "Función genérica para realizar un INSERT en una tabla MySQL/MariaDB.\n",
    "\n",
    "    Args:\n",
    "    - connection: La conexión a la base de datos.\n",
    "    - table: El nombre de la tabla.\n",
    "    - data: Un diccionario con los datos a insertar.\n",
    "\n",
    "    Returns:\n",
    "    - insert_id: El ID del registro insertado."
   ]
  },
  {
   "cell_type": "code",
   "execution_count": 8,
   "id": "f5583df8-a751-4bff-968b-938e6f56f5e0",
   "metadata": {},
   "outputs": [],
   "source": [
    "import pymysql\n",
    "\n",
    "def insert_generic(connection, table, data):\n",
    "    \n",
    "    cursor = connection.cursor()\n",
    "    \n",
    "    columns = ', '.join(data.keys())\n",
    "    placeholders = ', '.join(['%s'] * len(data))\n",
    "    query = f\"INSERT INTO {table} ({columns}) VALUES ({placeholders})\"\n",
    "    \n",
    "    try:\n",
    "        cursor.execute(query, tuple(data.values()))\n",
    "        connection.commit()\n",
    "        insert_id = cursor.lastrowid\n",
    "        print(f\"Registro insertado con ID: {insert_id}\")\n",
    "        return insert_id\n",
    "    except Exception as e:\n",
    "        connection.rollback()\n",
    "        print(f\"Error en INSERT: {e}\")\n",
    "        return None\n",
    "    finally:\n",
    "        cursor.close()\n"
   ]
  },
  {
   "cell_type": "markdown",
   "id": "8098420e-1f5f-4217-8db5-7ac946d62e0a",
   "metadata": {},
   "source": [
    "## Select\n",
    "\n",
    "Función genérica para realizar un SELECT en una tabla MySQL/MariaDB.\n",
    "\n",
    "    Args:\n",
    "    - connection: La conexión a la base de datos.\n",
    "    - table: El nombre de la tabla.\n",
    "    - conditions: Un diccionario opcional con las condiciones para el WHERE.\n",
    "\n",
    "    Returns:\n",
    "    - results: Una lista de tuplas con los resultados de la consulta."
   ]
  },
  {
   "cell_type": "code",
   "execution_count": 9,
   "id": "65985d01-2644-4764-b263-122792d0a562",
   "metadata": {},
   "outputs": [],
   "source": [
    "def select_generic(connection, table, conditions=None):\n",
    "\n",
    "    cursor = connection.cursor()\n",
    "    \n",
    "    query = f\"SELECT * FROM {table}\"\n",
    "    \n",
    "    if conditions:\n",
    "        condition_str = ' AND '.join([f\"{key} = %s\" for key in conditions.keys()])\n",
    "        query += f\" WHERE {condition_str}\"\n",
    "        values = tuple(conditions.values())\n",
    "    else:\n",
    "        values = ()\n",
    "    \n",
    "    try:\n",
    "        cursor.execute(query, values)\n",
    "        results = cursor.fetchall()\n",
    "        return results\n",
    "    except Exception as e:\n",
    "        print(f\"Error en SELECT: {e}\")\n",
    "        return None\n",
    "    finally:\n",
    "        cursor.close()\n"
   ]
  },
  {
   "cell_type": "markdown",
   "id": "408e6b2b-28a5-40f7-8e95-22c6d4cb749d",
   "metadata": {},
   "source": [
    "## Update\n",
    "\n",
    "Función genérica para realizar un UPDATE en una tabla MySQL/MariaDB.\n",
    "\n",
    "    Args:\n",
    "    - connection: La conexión a la base de datos.\n",
    "    - table: El nombre de la tabla.\n",
    "    - data: Un diccionario con los datos a actualizar.\n",
    "    - conditions: Un diccionario con las condiciones para el WHERE.\n",
    "\n",
    "    Returns:\n",
    "    - affected_rows: El número de filas afectadas."
   ]
  },
  {
   "cell_type": "code",
   "execution_count": 10,
   "id": "19b072e6-a3ac-4aca-abdf-613c19a53373",
   "metadata": {},
   "outputs": [],
   "source": [
    "def update_generic(connection, table, data, conditions):\n",
    "\n",
    "    cursor = connection.cursor()\n",
    "    \n",
    "    set_clause = ', '.join([f\"{key} = %s\" for key in data.keys()])\n",
    "    condition_clause = ' AND '.join([f\"{key} = %s\" for key in conditions.keys()])\n",
    "    \n",
    "    query = f\"UPDATE {table} SET {set_clause} WHERE {condition_clause}\"\n",
    "    \n",
    "    values = tuple(data.values()) + tuple(conditions.values())\n",
    "    \n",
    "    try:\n",
    "        cursor.execute(query, values)\n",
    "        connection.commit()\n",
    "        affected_rows = cursor.rowcount\n",
    "        print(f\"Filas actualizadas: {affected_rows}\")\n",
    "        return affected_rows\n",
    "    except Exception as e:\n",
    "        connection.rollback()\n",
    "        print(f\"Error en UPDATE: {e}\")\n",
    "        return None\n",
    "    finally:\n",
    "        cursor.close()\n"
   ]
  },
  {
   "cell_type": "markdown",
   "id": "100105e7-ab5a-4b63-9d14-9f0ce4deffe2",
   "metadata": {},
   "source": [
    "## Delete\n",
    "\n",
    "    Función genérica para realizar un DELETE en una tabla MySQL/MariaDB.\n",
    "\n",
    "    Args:\n",
    "    - connection: La conexión a la base de datos.\n",
    "    - table: El nombre de la tabla.\n",
    "    - conditions: Un diccionario con las condiciones para el WHERE.\n",
    "\n",
    "    Returns:\n",
    "    - affected_rows: El número de filas eliminadas."
   ]
  },
  {
   "cell_type": "code",
   "execution_count": 11,
   "id": "e86a2d7d-0d17-47d6-a8de-95affceeb25b",
   "metadata": {},
   "outputs": [],
   "source": [
    "def delete_generic(connection, table, conditions):\n",
    "    \n",
    "    cursor = connection.cursor()\n",
    "    \n",
    "    condition_clause = ' AND '.join([f\"{key} = %s\" for key in conditions.keys()])\n",
    "    query = f\"DELETE FROM {table} WHERE {condition_clause}\"\n",
    "    \n",
    "    values = tuple(conditions.values())\n",
    "    \n",
    "    try:\n",
    "        cursor.execute(query, values)\n",
    "        connection.commit()\n",
    "        affected_rows = cursor.rowcount\n",
    "        print(f\"Filas eliminadas: {affected_rows}\")\n",
    "        return affected_rows\n",
    "    except Exception as e:\n",
    "        connection.rollback()\n",
    "        print(f\"Error en DELETE: {e}\")\n",
    "        return None\n",
    "    finally:\n",
    "        cursor.close()\n"
   ]
  },
  {
   "cell_type": "markdown",
   "id": "d6806671-8ed2-4c91-878a-20eb48ac6407",
   "metadata": {},
   "source": [
    "# Pruebas"
   ]
  },
  {
   "cell_type": "code",
   "execution_count": 14,
   "id": "893c69b8-990c-4c12-8927-1a3e840df25a",
   "metadata": {},
   "outputs": [
    {
     "name": "stdout",
     "output_type": "stream",
     "text": [
      "Conexión exitosa a MySQL/MariaDB\n",
      "Registro insertado con ID: 1\n",
      "Conexión cerrada\n"
     ]
    }
   ],
   "source": [
    "# Conectar a la base de datos\n",
    "connection = connect_to_mysql()\n",
    "\n",
    "# Datos a insertar\n",
    "data = {\n",
    "    'nombre': 'Maria',\n",
    "    'apellido_paterno': 'Lopez',\n",
    "    'apellido_materno': 'Castodo',\n",
    "    'fecha_nacimiento': '2000-10-21',\n",
    "    'correo': 'maria.lopez@example.com',\n",
    "    'direccion': 'Calle 3, Col. Obrera, Benito Juárez, CDMX, México',\n",
    "    'telefono': '556677889900',\n",
    "    'alergias': 'pasto',\n",
    "    'fumador': 'TRUE',\n",
    "    'se_droga': 'Cocaina',\n",
    "    'alcohol': 'TRUE'\n",
    "}\n",
    "insert_generic(connection, 'Paciente', data)\n",
    "\n",
    "# Asegúrate de cerrar la conexión cuando termines\n",
    "if connection:\n",
    "    connection.close()\n",
    "    print(\"Conexión cerrada\")\n"
   ]
  },
  {
   "cell_type": "code",
   "execution_count": null,
   "id": "f5beb9b8-b329-4c05-84df-8dcb1dc912cf",
   "metadata": {},
   "outputs": [],
   "source": []
  }
 ],
 "metadata": {
  "kernelspec": {
   "display_name": "Python 3 (ipykernel)",
   "language": "python",
   "name": "python3"
  },
  "language_info": {
   "codemirror_mode": {
    "name": "ipython",
    "version": 3
   },
   "file_extension": ".py",
   "mimetype": "text/x-python",
   "name": "python",
   "nbconvert_exporter": "python",
   "pygments_lexer": "ipython3",
   "version": "3.12.7"
  }
 },
 "nbformat": 4,
 "nbformat_minor": 5
}
